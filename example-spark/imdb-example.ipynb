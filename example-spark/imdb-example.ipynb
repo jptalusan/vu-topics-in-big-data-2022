{
  "nbformat": 4,
  "nbformat_minor": 0,
  "metadata": {
    "colab": {
      "name": "imdb example",
      "provenance": [],
      "authorship_tag": "ABX9TyN0uqFfE5zyGXqGJpikj9ue",
      "include_colab_link": true
    },
    "kernelspec": {
      "name": "python3",
      "display_name": "Python 3"
    }
  },
  "cells": [
    {
      "cell_type": "markdown",
      "metadata": {
        "id": "view-in-github",
        "colab_type": "text"
      },
      "source": [
        "<a href=\"https://colab.research.google.com/github/vu-bigdata-2020/lectures/blob/master/06_mapreduce_and_spark/example/spark-example/imdb-example.ipynb\" target=\"_parent\"><img src=\"https://colab.research.google.com/assets/colab-badge.svg\" alt=\"Open In Colab\"/></a>"
      ]
    },
    {
      "cell_type": "markdown",
      "metadata": {
        "id": "u4vw5EEa2GCv",
        "colab_type": "text"
      },
      "source": [
        "# IMDB File Processing\n",
        "\n",
        "This example shows the basic RDD processing.\n",
        "\n"
      ]
    },
    {
      "cell_type": "code",
      "metadata": {
        "id": "EmHhdiqQho9u",
        "colab_type": "code",
        "colab": {}
      },
      "source": [
        "#Basic installation requires you to setup java. Colab does not have java - so we install.\n",
        "!apt-get install openjdk-8-jdk-headless -qq > /dev/null\n",
        "import os\n",
        "os.environ[\"JAVA_HOME\"] = \"/usr/lib/jvm/java-8-openjdk-amd64\""
      ],
      "execution_count": 0,
      "outputs": []
    },
    {
      "cell_type": "code",
      "metadata": {
        "id": "9Exq5o6RiNr2",
        "colab_type": "code",
        "colab": {
          "base_uri": "https://localhost:8080/",
          "height": 119
        },
        "outputId": "3fe5c5d5-53b3-4cba-e138-799faa4f3d78"
      },
      "source": [
        "#install spark. we are using the one that uses hadoop as the underlying scheduler.\n",
        "!wget -q https://downloads.apache.org/spark//spark-2.4.5/spark-2.4.5-bin-hadoop2.7.tgz\n",
        "!tar xf spark-2.4.5-bin-hadoop2.7.tgz\n",
        "!ls -l\n"
      ],
      "execution_count": 12,
      "outputs": [
        {
          "output_type": "stream",
          "text": [
            "total 454484\n",
            "-rw-r--r--  1 root root    308767 Mar 16 19:54 imdb.csv\n",
            "drwxr-xr-x  1 root root      4096 Mar  3 18:11 sample_data\n",
            "drwxr-xr-x 13 1000 1000      4096 Feb  2 19:47 spark-2.4.5-bin-hadoop2.7\n",
            "-rw-r--r--  1 root root 232530699 Feb  2 20:27 spark-2.4.5-bin-hadoop2.7.tgz\n",
            "-rw-r--r--  1 root root 232530699 Feb  2 20:27 spark-2.4.5-bin-hadoop2.7.tgz.1\n"
          ],
          "name": "stdout"
        }
      ]
    },
    {
      "cell_type": "code",
      "metadata": {
        "id": "oQiUr_sviyJb",
        "colab_type": "code",
        "colab": {}
      },
      "source": [
        "#Provides findspark.init() to make pyspark importable as a regular library.\n",
        "os.environ[\"SPARK_HOME\"] = \"spark-2.4.5-bin-hadoop2.7\"\n",
        "!pip install -q findspark\n",
        "import findspark\n",
        "findspark.init()"
      ],
      "execution_count": 0,
      "outputs": []
    },
    {
      "cell_type": "code",
      "metadata": {
        "id": "staDohTqjcss",
        "colab_type": "code",
        "colab": {}
      },
      "source": [
        "#The entry point to using Spark SQL is an object called SparkSession. It initiates a Spark Application which all the code for that Session will run on\n",
        "# to larn more see https://blog.knoldus.com/spark-why-should-we-use-sparksession/\n",
        "from pyspark.sql import SparkSession\n",
        "spark = SparkSession.builder \\\n",
        "    .master(\"local[*]\") \\\n",
        "    .appName(\"Learning_Spark\") \\\n",
        "    .getOrCreate()"
      ],
      "execution_count": 0,
      "outputs": []
    },
    {
      "cell_type": "markdown",
      "metadata": {
        "id": "qeR10wrh2fly",
        "colab_type": "text"
      },
      "source": [
        "# Now the installation is complete. And we will start with processing.\n",
        "\n"
      ]
    },
    {
      "cell_type": "code",
      "metadata": {
        "id": "f6JMROZnkIWo",
        "colab_type": "code",
        "colab": {}
      },
      "source": [
        "#upload the ibmdb movie data. It is in the data folder.\n",
        "#https://github.com/vu-bigdata-2020/lectures/tree/master/06_mapreduce_and_spark/example/spark-example/data\n",
        "from google.colab import files\n",
        "files.upload()"
      ],
      "execution_count": 0,
      "outputs": []
    },
    {
      "cell_type": "code",
      "metadata": {
        "id": "6CPqGnFikMpP",
        "colab_type": "code",
        "colab": {}
      },
      "source": [
        "#this will infer the schema -- for example column names. It creates an RDD\n",
        "data = spark.read.csv('imdb.csv',inferSchema=True, header=True)"
      ],
      "execution_count": 0,
      "outputs": []
    },
    {
      "cell_type": "code",
      "metadata": {
        "id": "2EyQwQftkVzl",
        "colab_type": "code",
        "colab": {
          "base_uri": "https://localhost:8080/",
          "height": 34
        },
        "outputId": "8b092f49-4518-4265-957c-abd5ef5532cd"
      },
      "source": [
        "#just shows the basic count of rows and number of columns\n",
        "data.count(), len(data.columns)"
      ],
      "execution_count": 21,
      "outputs": [
        {
          "output_type": "execute_result",
          "data": {
            "text/plain": [
              "(1000, 12)"
            ]
          },
          "metadata": {
            "tags": []
          },
          "execution_count": 21
        }
      ]
    },
    {
      "cell_type": "code",
      "metadata": {
        "id": "krhnCHplkdCk",
        "colab_type": "code",
        "colab": {
          "base_uri": "https://localhost:8080/",
          "height": 204
        },
        "outputId": "dedbcc5e-3308-415e-fb7e-44aa10550922"
      },
      "source": [
        "#To view a DataFrame, use the .show() method:\n",
        "data.show(5)"
      ],
      "execution_count": 22,
      "outputs": [
        {
          "output_type": "stream",
          "text": [
            "+----+--------------------+--------------------+--------------------+--------------------+--------------------+----+-----------------+------+------+------------------+---------+\n",
            "|Rank|               Title|               Genre|         Description|            Director|              Actors|Year|Runtime (Minutes)|Rating| Votes|Revenue (Millions)|Metascore|\n",
            "+----+--------------------+--------------------+--------------------+--------------------+--------------------+----+-----------------+------+------+------------------+---------+\n",
            "|   1|Guardians of the ...|Action,Adventure,...|A group of interg...|          James Gunn|Chris Pratt, Vin ...|2014|              121|   8.1|757074|            333.13|     76.0|\n",
            "|   2|          Prometheus|Adventure,Mystery...|Following clues t...|        Ridley Scott|Noomi Rapace, Log...|2012|              124|     7|485820|            126.46|     65.0|\n",
            "|   3|               Split|     Horror,Thriller|Three girls are k...|  M. Night Shyamalan|James McAvoy, Any...|2016|              117|   7.3|157606|            138.12|     62.0|\n",
            "|   4|                Sing|Animation,Comedy,...|In a city of huma...|Christophe Lourdelet|Matthew McConaugh...|2016|              108|   7.2| 60545|            270.32|     59.0|\n",
            "|   5|       Suicide Squad|Action,Adventure,...|A secret governme...|          David Ayer|Will Smith, Jared...|2016|              123|   6.2|393727|            325.02|     40.0|\n",
            "+----+--------------------+--------------------+--------------------+--------------------+--------------------+----+-----------------+------+------+------------------+---------+\n",
            "only showing top 5 rows\n",
            "\n"
          ],
          "name": "stdout"
        }
      ]
    },
    {
      "cell_type": "code",
      "metadata": {
        "id": "6SJzA4upkk37",
        "colab_type": "code",
        "colab": {
          "base_uri": "https://localhost:8080/",
          "height": 255
        },
        "outputId": "8b3aecaa-5e2c-401e-cc37-c5f799e1558a"
      },
      "source": [
        "#to see data schema\n",
        "data.printSchema()"
      ],
      "execution_count": 25,
      "outputs": [
        {
          "output_type": "stream",
          "text": [
            "root\n",
            " |-- Rank: integer (nullable = true)\n",
            " |-- Title: string (nullable = true)\n",
            " |-- Genre: string (nullable = true)\n",
            " |-- Description: string (nullable = true)\n",
            " |-- Director: string (nullable = true)\n",
            " |-- Actors: string (nullable = true)\n",
            " |-- Year: string (nullable = true)\n",
            " |-- Runtime (Minutes): string (nullable = true)\n",
            " |-- Rating: string (nullable = true)\n",
            " |-- Votes: string (nullable = true)\n",
            " |-- Revenue (Millions): double (nullable = true)\n",
            " |-- Metascore: double (nullable = true)\n",
            "\n"
          ],
          "name": "stdout"
        }
      ]
    },
    {
      "cell_type": "code",
      "metadata": {
        "id": "skC8E3R7kvuZ",
        "colab_type": "code",
        "colab": {
          "base_uri": "https://localhost:8080/",
          "height": 204
        },
        "outputId": "ee32090d-2b75-4cb3-d2b5-198380b382dd"
      },
      "source": [
        "#We can also selectively choose which columns we want to display with the .select() method\n",
        "data.select(\"Title\",\"Genre\",\"Director\",\"Year\").show(5, truncate=False) #truncate=False parameter that adjusts the size of columns to prevent values from being cut off."
      ],
      "execution_count": 26,
      "outputs": [
        {
          "output_type": "stream",
          "text": [
            "+-----------------------+------------------------+--------------------+----+\n",
            "|Title                  |Genre                   |Director            |Year|\n",
            "+-----------------------+------------------------+--------------------+----+\n",
            "|Guardians of the Galaxy|Action,Adventure,Sci-Fi |James Gunn          |2014|\n",
            "|Prometheus             |Adventure,Mystery,Sci-Fi|Ridley Scott        |2012|\n",
            "|Split                  |Horror,Thriller         |M. Night Shyamalan  |2016|\n",
            "|Sing                   |Animation,Comedy,Family |Christophe Lourdelet|2016|\n",
            "|Suicide Squad          |Action,Adventure,Fantasy|David Ayer          |2016|\n",
            "+-----------------------+------------------------+--------------------+----+\n",
            "only showing top 5 rows\n",
            "\n"
          ],
          "name": "stdout"
        }
      ]
    },
    {
      "cell_type": "code",
      "metadata": {
        "id": "E7ImOqzjlJVX",
        "colab_type": "code",
        "colab": {
          "base_uri": "https://localhost:8080/",
          "height": 187
        },
        "outputId": "645c0500-aa30-48e3-97ab-45406f2a2c5a"
      },
      "source": [
        "#summary statistics\n",
        "data.describe([\"Runtime (Minutes)\",\"Rating\",\"Title\"]).show()"
      ],
      "execution_count": 27,
      "outputs": [
        {
          "output_type": "stream",
          "text": [
            "+-------+--------------------+------------------+--------------------+\n",
            "|summary|   Runtime (Minutes)|            Rating|               Title|\n",
            "+-------+--------------------+------------------+--------------------+\n",
            "|  count|                1000|              1000|                1000|\n",
            "|   mean|  126.65829145728644|15.428728728728741|   635.6666666666666|\n",
            "| stddev|  160.08961216341075|126.98048279758784|   860.1559548515994|\n",
            "|    min| teamed up on a j...|               1.9|(500) Days of Summer|\n",
            "|    max|Taraneh Alidoosti...| Baltasar Kormákur|            Zootopia|\n",
            "+-------+--------------------+------------------+--------------------+\n",
            "\n"
          ],
          "name": "stdout"
        }
      ]
    },
    {
      "cell_type": "code",
      "metadata": {
        "id": "OLlnqfdulq6D",
        "colab_type": "code",
        "colab": {
          "base_uri": "https://localhost:8080/",
          "height": 255
        },
        "outputId": "5c234274-ec0b-4f48-9bb2-0aaceacd18eb"
      },
      "source": [
        "#we can rename columns\n",
        "df2 = data.withColumnRenamed(\"Runtime (Minutes)\",\"runtime\").withColumnRenamed(\"Revenue (Millions)\",\"revenue\")\n",
        "df2.printSchema()"
      ],
      "execution_count": 28,
      "outputs": [
        {
          "output_type": "stream",
          "text": [
            "root\n",
            " |-- Rank: integer (nullable = true)\n",
            " |-- Title: string (nullable = true)\n",
            " |-- Genre: string (nullable = true)\n",
            " |-- Description: string (nullable = true)\n",
            " |-- Director: string (nullable = true)\n",
            " |-- Actors: string (nullable = true)\n",
            " |-- Year: string (nullable = true)\n",
            " |-- runtime: string (nullable = true)\n",
            " |-- Rating: string (nullable = true)\n",
            " |-- Votes: string (nullable = true)\n",
            " |-- revenue: double (nullable = true)\n",
            " |-- Metascore: double (nullable = true)\n",
            "\n"
          ],
          "name": "stdout"
        }
      ]
    },
    {
      "cell_type": "code",
      "metadata": {
        "id": "Nc65CO9_mGTu",
        "colab_type": "code",
        "colab": {
          "base_uri": "https://localhost:8080/",
          "height": 289
        },
        "outputId": "16f3d20a-b589-4b32-c100-6648c447e380"
      },
      "source": [
        "#group by is a transformation \n",
        "# https://backtobazics.com/big-data/spark/apache-spark-groupby-example/\n",
        "df2.groupBy(\"Director\").count().orderBy(\"count\", ascending=False).show(10)"
      ],
      "execution_count": 29,
      "outputs": [
        {
          "output_type": "stream",
          "text": [
            "+------------------+-----+\n",
            "|          Director|count|\n",
            "+------------------+-----+\n",
            "|      Ridley Scott|    8|\n",
            "|M. Night Shyamalan|    6|\n",
            "|       David Yates|    6|\n",
            "|       Michael Bay|    6|\n",
            "|Paul W.S. Anderson|    6|\n",
            "|       Danny Boyle|    5|\n",
            "|       Zack Snyder|    5|\n",
            "|       J.J. Abrams|    5|\n",
            "|        Justin Lin|    5|\n",
            "|     Antoine Fuqua|    5|\n",
            "+------------------+-----+\n",
            "only showing top 10 rows\n",
            "\n"
          ],
          "name": "stdout"
        }
      ]
    },
    {
      "cell_type": "code",
      "metadata": {
        "id": "M4zmcjWlm3Ba",
        "colab_type": "code",
        "colab": {
          "base_uri": "https://localhost:8080/",
          "height": 204
        },
        "outputId": "d0a85814-f173-4c6a-ace8-4df0eb08dec9"
      },
      "source": [
        "#filtering -- another transformation\n",
        "condition1 = (df2.runtime.isNotNull()) |  (df2.revenue.isNotNull())\n",
        "df3 = df2.filter(condition1).show(5)"
      ],
      "execution_count": 31,
      "outputs": [
        {
          "output_type": "stream",
          "text": [
            "+----+--------------------+--------------------+--------------------+--------------------+--------------------+----+-------+------+------+-------+---------+\n",
            "|Rank|               Title|               Genre|         Description|            Director|              Actors|Year|runtime|Rating| Votes|revenue|Metascore|\n",
            "+----+--------------------+--------------------+--------------------+--------------------+--------------------+----+-------+------+------+-------+---------+\n",
            "|   1|Guardians of the ...|Action,Adventure,...|A group of interg...|          James Gunn|Chris Pratt, Vin ...|2014|    121|   8.1|757074| 333.13|     76.0|\n",
            "|   2|          Prometheus|Adventure,Mystery...|Following clues t...|        Ridley Scott|Noomi Rapace, Log...|2012|    124|     7|485820| 126.46|     65.0|\n",
            "|   3|               Split|     Horror,Thriller|Three girls are k...|  M. Night Shyamalan|James McAvoy, Any...|2016|    117|   7.3|157606| 138.12|     62.0|\n",
            "|   4|                Sing|Animation,Comedy,...|In a city of huma...|Christophe Lourdelet|Matthew McConaugh...|2016|    108|   7.2| 60545| 270.32|     59.0|\n",
            "|   5|       Suicide Squad|Action,Adventure,...|A secret governme...|          David Ayer|Will Smith, Jared...|2016|    123|   6.2|393727| 325.02|     40.0|\n",
            "+----+--------------------+--------------------+--------------------+--------------------+--------------------+----+-------+------+------+-------+---------+\n",
            "only showing top 5 rows\n",
            "\n"
          ],
          "name": "stdout"
        }
      ]
    },
    {
      "cell_type": "code",
      "metadata": {
        "id": "IXkdQhPKGAH4",
        "colab_type": "code",
        "colab": {}
      },
      "source": [
        "df4=df3.filter(title.isNotNull)"
      ],
      "execution_count": 0,
      "outputs": []
    },
    {
      "cell_type": "code",
      "metadata": {
        "id": "oQQfvUHtnkMz",
        "colab_type": "code",
        "colab": {}
      },
      "source": [
        "#Zip an RDD with its element indices.\n",
        "#https://amplab-extras.github.io/SparkR-pkg/rdocs/1.2/zipWithIndex.html\n",
        "rdd=df2.rdd.zipWithIndex()\n",
        "print(rdd.take(2))"
      ],
      "execution_count": 0,
      "outputs": []
    },
    {
      "cell_type": "code",
      "metadata": {
        "id": "5ILWuBfkofSH",
        "colab_type": "code",
        "colab": {}
      },
      "source": [
        "print('RDD Count:', rdd.count())\n",
        "print('RDD Collect as map:',  rdd.collectAsMap())\n",
        "print('RDD Num Partitions:', rdd.getNumPartitions())"
      ],
      "execution_count": 0,
      "outputs": []
    }
  ]
}