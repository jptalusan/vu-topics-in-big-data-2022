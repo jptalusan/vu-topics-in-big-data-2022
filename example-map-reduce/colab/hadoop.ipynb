{
  "nbformat": 4,
  "nbformat_minor": 0,
  "metadata": {
    "colab": {
      "name": "hadoop",
      "provenance": [],
      "authorship_tag": "ABX9TyN3ru300LGKe8xfRviPZDR7",
      "include_colab_link": true
    },
    "kernelspec": {
      "name": "python3",
      "display_name": "Python 3"
    }
  },
  "cells": [
    {
      "cell_type": "markdown",
      "metadata": {
        "id": "view-in-github",
        "colab_type": "text"
      },
      "source": [
        "<a href=\"https://colab.research.google.com/github/vu-topics-in-big-data-2021/examples/blob/main/example-map-reduce/colab/hadoop.ipynb\" target=\"_parent\"><img src=\"https://colab.research.google.com/assets/colab-badge.svg\" alt=\"Open In Colab\"/></a>"
      ]
    },
    {
      "cell_type": "code",
      "metadata": {
        "id": "e8QD8JufDgBB"
      },
      "source": [
        "#install java first\n",
        "!apt-get install openjdk-8-jdk-headless -qq > /dev/null\n",
        "import os\n",
        "os.environ[\"JAVA_HOME\"] = \"/usr/lib/jvm/java-8-openjdk-amd64\""
      ],
      "execution_count": 1,
      "outputs": []
    },
    {
      "cell_type": "code",
      "metadata": {
        "id": "jm4sRuLzDufI",
        "outputId": "ed07f17c-b66f-4b1c-aec0-2590d38ce792",
        "colab": {
          "base_uri": "https://localhost:8080/"
        }
      },
      "source": [
        "#install hadoop. But we clean up first \n",
        "!rm -rf hadoop-3.3.0.tar.gz hadoop-3.3.0 /usr/local/hadoop\n",
        "#download\n",
        "!wget https://archive.apache.org/dist/hadoop/common/hadoop-3.3.0/hadoop-3.3.0.tar.gz\n",
        "#untar\n",
        "!tar -xzvf hadoop-3.3.0.tar.gz >/dev/null\n",
        "!mv hadoop-3.3.0 /usr/local/hadoop\n"
      ],
      "execution_count": 2,
      "outputs": [
        {
          "output_type": "stream",
          "text": [
            "--2021-03-06 18:43:40--  https://archive.apache.org/dist/hadoop/common/hadoop-3.3.0/hadoop-3.3.0.tar.gz\n",
            "Resolving archive.apache.org (archive.apache.org)... 138.201.131.134, 2a01:4f8:172:2ec5::2\n",
            "Connecting to archive.apache.org (archive.apache.org)|138.201.131.134|:443... connected.\n",
            "HTTP request sent, awaiting response... 200 OK\n",
            "Length: 500749234 (478M) [application/x-gzip]\n",
            "Saving to: ‘hadoop-3.3.0.tar.gz’\n",
            "\n",
            "hadoop-3.3.0.tar.gz 100%[===================>] 477.55M  26.4MB/s    in 19s     \n",
            "\n",
            "2021-03-06 18:44:00 (25.0 MB/s) - ‘hadoop-3.3.0.tar.gz’ saved [500749234/500749234]\n",
            "\n"
          ],
          "name": "stdout"
        }
      ]
    },
    {
      "cell_type": "code",
      "metadata": {
        "id": "yLIB9e_KE8za",
        "outputId": "adda55d2-8d80-463f-d85c-5fbe416dd10b",
        "colab": {
          "base_uri": "https://localhost:8080/"
        }
      },
      "source": [
        "#get the data file\n",
        "!wget https://datasets.imdbws.com/title.basics.tsv.gz\n",
        "!gunzip title.basics.tsv.gz"
      ],
      "execution_count": 3,
      "outputs": [
        {
          "output_type": "stream",
          "text": [
            "--2021-03-06 18:44:10--  https://datasets.imdbws.com/title.basics.tsv.gz\n",
            "Resolving datasets.imdbws.com (datasets.imdbws.com)... 65.8.246.41, 65.8.246.97, 65.8.246.4, ...\n",
            "Connecting to datasets.imdbws.com (datasets.imdbws.com)|65.8.246.41|:443... connected.\n",
            "HTTP request sent, awaiting response... 200 OK\n",
            "Length: 136706444 (130M) [binary/octet-stream]\n",
            "Saving to: ‘title.basics.tsv.gz’\n",
            "\n",
            "title.basics.tsv.gz 100%[===================>] 130.37M  51.7MB/s    in 2.5s    \n",
            "\n",
            "2021-03-06 18:44:13 (51.7 MB/s) - ‘title.basics.tsv.gz’ saved [136706444/136706444]\n",
            "\n"
          ],
          "name": "stdout"
        }
      ]
    },
    {
      "cell_type": "code",
      "metadata": {
        "id": "j5ZbiM1nEnMA",
        "outputId": "882696d8-6563-472a-8e82-8b44c87e9b07",
        "colab": {
          "base_uri": "https://localhost:8080/"
        }
      },
      "source": [
        "#check path and java home\n",
        "!echo $JAVA_HOME\n",
        "os.environ[\"PATH\"]+= os.pathsep + \"/usr/local/hadoop/bin\"\n",
        "!echo $PATH"
      ],
      "execution_count": 4,
      "outputs": [
        {
          "output_type": "stream",
          "text": [
            "/usr/lib/jvm/java-8-openjdk-amd64\n",
            "/usr/local/nvidia/bin:/usr/local/cuda/bin:/usr/local/sbin:/usr/local/bin:/usr/sbin:/usr/bin:/sbin:/bin:/tools/node/bin:/tools/google-cloud-sdk/bin:/opt/bin:/usr/local/hadoop/bin\n"
          ],
          "name": "stdout"
        }
      ]
    },
    {
      "cell_type": "code",
      "metadata": {
        "id": "SSzAtzFJFkap"
      },
      "source": [
        "#check hadoop execution and ensure its in path\n",
        "!/usr/local/hadoop/bin/hadoop"
      ],
      "execution_count": null,
      "outputs": []
    },
    {
      "cell_type": "markdown",
      "metadata": {
        "id": "ik9RbcTyt4AF"
      },
      "source": [
        "The hadoop process requires a mapper file and reducer file."
      ]
    },
    {
      "cell_type": "code",
      "metadata": {
        "id": "t1bYn6G2GSoG",
        "outputId": "9db82ffe-7818-4e96-91a3-edfe8cc6dd18",
        "colab": {
          "base_uri": "https://localhost:8080/"
        }
      },
      "source": [
        "#the magic command with two %% will take the code in cell and copy to a file.\n",
        "%%file mapper.py\n",
        "#!/usr/bin/python2.7\n",
        "import sys\n",
        "\n",
        "def map_function(title):\n",
        "    fields = title.strip().split('\\t')         # Split title to fields using the data delimeter\n",
        "    primaryTitle = fields[2]                   # Select the required field\n",
        "    for word in primaryTitle.strip().split():  # Split primary title by words\n",
        "        yield word.strip('!\"*#$').lower(), 1                          # Use a word as a key\n",
        "\n",
        "if __name__ == \"__main__\": \n",
        "  for line in sys.stdin:\n",
        "      # Call map_function for each line in the input\n",
        "      for key, value in map_function(line):\n",
        "          # Emit key-value pairs using '|' as a delimeter  \n",
        "          print(key + \"|\" + str(value))"
      ],
      "execution_count": 6,
      "outputs": [
        {
          "output_type": "stream",
          "text": [
            "Writing mapper.py\n"
          ],
          "name": "stdout"
        }
      ]
    },
    {
      "cell_type": "code",
      "metadata": {
        "id": "gJGBloFcGlNt",
        "outputId": "e1eb331b-605f-4f24-e233-a2f8464adcf6",
        "colab": {
          "base_uri": "https://localhost:8080/"
        }
      },
      "source": [
        "%%file reducer.py\n",
        "#!/usr/bin/python2.7\n",
        "import sys\n",
        "\n",
        "prev_word = None\n",
        "value_total = 0\n",
        "\n",
        "if __name__ == \"__main__\": \n",
        "  for line in sys.stdin:          # For ever line in the input from stdin\n",
        "      line = line.strip()         # Remove trailing characters\n",
        "      word, value = line.split(\"|\", 1)\n",
        "      value = int(value)\n",
        "\n",
        "      # Remember that Hadoop sorts mapper output by key, and the reducer takes these keys sorted\n",
        "      if prev_word == word:\n",
        "          value_total += value\n",
        "      else:\n",
        "          if prev_word != None:  # Write result to stdout\n",
        "              print(prev_word + \"|\" + str(value_total))\n",
        "\n",
        "\n",
        "          value_total = value\n",
        "          prev_word = word\n",
        "\n",
        "  if prev_word == word:  # Don't forget the last key/value pair\n",
        "      print(prev_word + \"|\" + str(value_total))"
      ],
      "execution_count": 7,
      "outputs": [
        {
          "output_type": "stream",
          "text": [
            "Writing reducer.py\n"
          ],
          "name": "stdout"
        }
      ]
    },
    {
      "cell_type": "code",
      "metadata": {
        "id": "zBXsBulVLpC6"
      },
      "source": [
        "#give execute permission and clean output dir\n",
        "!chmod +x mapper.py reducer.py\n",
        "!rm -rf outputdir/"
      ],
      "execution_count": 8,
      "outputs": []
    },
    {
      "cell_type": "code",
      "metadata": {
        "id": "6-IWBXSrGv81"
      },
      "source": [
        "#run hadoop\n",
        "!hadoop jar /usr/local/hadoop/share/hadoop/tools/lib/hadoop-streaming-3.3.0.jar -input title.basics.tsv -output outputdir -mapper mapper.py -reducer reducer.py -file mapper.py -file reducer.py "
      ],
      "execution_count": null,
      "outputs": []
    },
    {
      "cell_type": "code",
      "metadata": {
        "id": "hLe3gEm-M5Na",
        "outputId": "632a09d3-9e2f-445c-bbae-a1d7eedec66d",
        "colab": {
          "base_uri": "https://localhost:8080/"
        }
      },
      "source": [
        "# The output will be created in the outputdir - see the -output flag above\n",
        "!ls -l outputdir/\n",
        "!mv outputdir/part-00000 outputdir/hadoop-out.txt"
      ],
      "execution_count": 13,
      "outputs": [
        {
          "output_type": "stream",
          "text": [
            "total 16368\n",
            "-rw-r--r-- 1 root root 16760258 Mar  6 18:46 part-00000\n",
            "-rw-r--r-- 1 root root        0 Mar  6 18:46 _SUCCESS\n"
          ],
          "name": "stdout"
        }
      ]
    },
    {
      "cell_type": "code",
      "metadata": {
        "id": "SVwc-_fxNS5g",
        "outputId": "1a1c6dd3-a76a-472d-fdbc-2886701a9813",
        "colab": {
          "base_uri": "https://localhost:8080/",
          "height": 17
        }
      },
      "source": [
        "#download file\n",
        "from google.colab import files\n",
        "files.download('outputdir/hadoop-out.txt') "
      ],
      "execution_count": 14,
      "outputs": [
        {
          "output_type": "display_data",
          "data": {
            "application/javascript": [
              "\n",
              "    async function download(id, filename, size) {\n",
              "      if (!google.colab.kernel.accessAllowed) {\n",
              "        return;\n",
              "      }\n",
              "      const div = document.createElement('div');\n",
              "      const label = document.createElement('label');\n",
              "      label.textContent = `Downloading \"${filename}\": `;\n",
              "      div.appendChild(label);\n",
              "      const progress = document.createElement('progress');\n",
              "      progress.max = size;\n",
              "      div.appendChild(progress);\n",
              "      document.body.appendChild(div);\n",
              "\n",
              "      const buffers = [];\n",
              "      let downloaded = 0;\n",
              "\n",
              "      const channel = await google.colab.kernel.comms.open(id);\n",
              "      // Send a message to notify the kernel that we're ready.\n",
              "      channel.send({})\n",
              "\n",
              "      for await (const message of channel.messages) {\n",
              "        // Send a message to notify the kernel that we're ready.\n",
              "        channel.send({})\n",
              "        if (message.buffers) {\n",
              "          for (const buffer of message.buffers) {\n",
              "            buffers.push(buffer);\n",
              "            downloaded += buffer.byteLength;\n",
              "            progress.value = downloaded;\n",
              "          }\n",
              "        }\n",
              "      }\n",
              "      const blob = new Blob(buffers, {type: 'application/binary'});\n",
              "      const a = document.createElement('a');\n",
              "      a.href = window.URL.createObjectURL(blob);\n",
              "      a.download = filename;\n",
              "      div.appendChild(a);\n",
              "      a.click();\n",
              "      div.remove();\n",
              "    }\n",
              "  "
            ],
            "text/plain": [
              "<IPython.core.display.Javascript object>"
            ]
          },
          "metadata": {
            "tags": []
          }
        },
        {
          "output_type": "display_data",
          "data": {
            "application/javascript": [
              "download(\"download_22ad64e4-1b4c-4385-a281-8123d6b0c2ba\", \"hadoop-out.txt\", 16760258)"
            ],
            "text/plain": [
              "<IPython.core.display.Javascript object>"
            ]
          },
          "metadata": {
            "tags": []
          }
        }
      ]
    }
  ]
}