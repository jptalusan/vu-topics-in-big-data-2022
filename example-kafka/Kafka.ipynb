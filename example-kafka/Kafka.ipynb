{
  "nbformat": 4,
  "nbformat_minor": 0,
  "metadata": {
    "colab": {
      "name": "Kafka",
      "provenance": []
    },
    "kernelspec": {
      "name": "python3",
      "display_name": "Python 3"
    },
    "language_info": {
      "name": "python"
    }
  },
  "cells": [
    {
      "cell_type": "markdown",
      "metadata": {
        "id": "view-in-github",
        "colab_type": "text"
      },
      "source": [
        "<a href=\"https://colab.research.google.com/github/vu-topics-in-big-data-2022/examples/blob/main/example-kafka/Kafka.ipynb\" target=\"_parent\"><img src=\"https://colab.research.google.com/assets/colab-badge.svg\" alt=\"Open In Colab\"/></a>"
      ]
    },
    {
      "cell_type": "markdown",
      "metadata": {
        "id": "zwbWcINaKdEr"
      },
      "source": [
        "Read https://towardsdatascience.com/kafka-python-explained-in-10-lines-of-code-800e3e07dad1"
      ]
    },
    {
      "cell_type": "code",
      "metadata": {
        "id": "hstMO9lPEVFq",
        "colab": {
          "base_uri": "https://localhost:8080/"
        },
        "outputId": "c128ba9d-b51c-4967-8108-c50f079bff01"
      },
      "source": [
        "#zookeeper is packaged in a debian package that you can install\n",
        "#kazoo is the python library used to work with zookeeper\n",
        "!apt-get update\n",
        "!apt-get install zookeeperd\n",
        "!pip install kazoo"
      ],
      "execution_count": 12,
      "outputs": [
        {
          "output_type": "stream",
          "name": "stdout",
          "text": [
            "\r0% [Working]\r            \rGet:1 https://cloud.r-project.org/bin/linux/ubuntu bionic-cran40/ InRelease [3,626 B]\n",
            "\r0% [Connecting to archive.ubuntu.com (91.189.88.152)] [Connecting to security.u\r0% [Connecting to archive.ubuntu.com (91.189.88.152)] [Connecting to security.u\r0% [1 InRelease gpgv 3,626 B] [Connecting to archive.ubuntu.com (91.189.88.152)\r                                                                               \rIgn:2 https://developer.download.nvidia.com/compute/cuda/repos/ubuntu1804/x86_64  InRelease\n",
            "\r0% [1 InRelease gpgv 3,626 B] [Waiting for headers] [Waiting for headers] [Wait\r                                                                               \rHit:3 http://archive.ubuntu.com/ubuntu bionic InRelease\n",
            "\r0% [1 InRelease gpgv 3,626 B] [Waiting for headers] [Waiting for headers] [Wait\r                                                                               \rGet:4 http://security.ubuntu.com/ubuntu bionic-security InRelease [88.7 kB]\n",
            "Get:5 http://ppa.launchpad.net/c2d4u.team/c2d4u4.0+/ubuntu bionic InRelease [15.9 kB]\n",
            "Ign:6 https://developer.download.nvidia.com/compute/machine-learning/repos/ubuntu1804/x86_64  InRelease\n",
            "Get:7 https://developer.download.nvidia.com/compute/cuda/repos/ubuntu1804/x86_64  Release [696 B]\n",
            "Hit:8 https://developer.download.nvidia.com/compute/machine-learning/repos/ubuntu1804/x86_64  Release\n",
            "Get:9 http://archive.ubuntu.com/ubuntu bionic-updates InRelease [88.7 kB]\n",
            "Get:10 https://developer.download.nvidia.com/compute/cuda/repos/ubuntu1804/x86_64  Release.gpg [836 B]\n",
            "Get:11 https://cloud.r-project.org/bin/linux/ubuntu bionic-cran40/ Packages [76.0 kB]\n",
            "Hit:12 http://ppa.launchpad.net/cran/libgit2/ubuntu bionic InRelease\n",
            "Get:13 http://archive.ubuntu.com/ubuntu bionic-backports InRelease [74.6 kB]\n",
            "Get:14 http://ppa.launchpad.net/deadsnakes/ppa/ubuntu bionic InRelease [15.9 kB]\n",
            "Hit:16 http://ppa.launchpad.net/graphics-drivers/ppa/ubuntu bionic InRelease\n",
            "Get:17 http://ppa.launchpad.net/c2d4u.team/c2d4u4.0+/ubuntu bionic/main Sources [1,823 kB]\n",
            "Get:18 https://developer.download.nvidia.com/compute/cuda/repos/ubuntu1804/x86_64  Packages [867 kB]\n",
            "Get:19 http://security.ubuntu.com/ubuntu bionic-security/universe amd64 Packages [1,459 kB]\n",
            "Get:20 http://ppa.launchpad.net/c2d4u.team/c2d4u4.0+/ubuntu bionic/main amd64 Packages [934 kB]\n",
            "Get:21 http://security.ubuntu.com/ubuntu bionic-security/restricted amd64 Packages [725 kB]\n",
            "Get:22 http://security.ubuntu.com/ubuntu bionic-security/main amd64 Packages [2,498 kB]\n",
            "Get:23 http://archive.ubuntu.com/ubuntu bionic-updates/universe amd64 Packages [2,240 kB]\n",
            "Get:24 http://archive.ubuntu.com/ubuntu bionic-updates/main amd64 Packages [2,952 kB]\n",
            "Get:25 http://archive.ubuntu.com/ubuntu bionic-updates/restricted amd64 Packages [771 kB]\n",
            "Get:26 http://ppa.launchpad.net/deadsnakes/ppa/ubuntu bionic/main amd64 Packages [45.3 kB]\n",
            "Fetched 14.7 MB in 3s (4,729 kB/s)\n",
            "Reading package lists... Done\n",
            "Reading package lists... Done\n",
            "Building dependency tree       \n",
            "Reading state information... Done\n",
            "The following additional packages will be installed:\n",
            "  libjline-java liblog4j1.2-java libnetty-3.9-java libslf4j-java\n",
            "  libxerces2-java libxml-commons-external-java libxml-commons-resolver1.1-java\n",
            "  libzookeeper-java zookeeper\n",
            "Suggested packages:\n",
            "  libjline-java-doc liblog4j1.2-java-doc libmail-java libbcpkix-java\n",
            "  libcommons-logging-java libjboss-logging-java libnetty-tcnative-java\n",
            "  libservlet3.1-java libxerces2-java-doc libxml-commons-resolver1.1-java-doc\n",
            "  libzookeeper-java-doc\n",
            "The following NEW packages will be installed:\n",
            "  libjline-java liblog4j1.2-java libnetty-3.9-java libslf4j-java\n",
            "  libxerces2-java libxml-commons-external-java libxml-commons-resolver1.1-java\n",
            "  libzookeeper-java zookeeper zookeeperd\n",
            "0 upgraded, 10 newly installed, 0 to remove and 58 not upgraded.\n",
            "Need to get 4,991 kB of archives.\n",
            "After this operation, 6,122 kB of additional disk space will be used.\n",
            "Get:1 http://archive.ubuntu.com/ubuntu bionic/universe amd64 libjline-java all 1.0-2 [69.4 kB]\n",
            "Get:2 http://archive.ubuntu.com/ubuntu bionic-updates/universe amd64 liblog4j1.2-java all 1.2.17-8+deb10u1ubuntu0.1 [435 kB]\n",
            "Get:3 http://archive.ubuntu.com/ubuntu bionic-updates/universe amd64 libnetty-3.9-java all 3.9.9.Final-1+deb9u1build0.18.04.1 [1,192 kB]\n",
            "Get:4 http://archive.ubuntu.com/ubuntu bionic/universe amd64 libslf4j-java all 1.7.25-3 [141 kB]\n",
            "Get:5 http://archive.ubuntu.com/ubuntu bionic/universe amd64 libxml-commons-external-java all 1.4.01-3 [240 kB]\n",
            "Get:6 http://archive.ubuntu.com/ubuntu bionic/universe amd64 libxml-commons-resolver1.1-java all 1.2-9 [91.1 kB]\n",
            "Get:7 http://archive.ubuntu.com/ubuntu bionic/universe amd64 libxerces2-java all 2.11.0-8 [1,344 kB]\n",
            "Get:8 http://archive.ubuntu.com/ubuntu bionic/universe amd64 libzookeeper-java all 3.4.10-3 [1,360 kB]\n",
            "Get:9 http://archive.ubuntu.com/ubuntu bionic/universe amd64 zookeeper all 3.4.10-3 [111 kB]\n",
            "Get:10 http://archive.ubuntu.com/ubuntu bionic/universe amd64 zookeeperd all 3.4.10-3 [8,316 B]\n",
            "Fetched 4,991 kB in 1s (5,096 kB/s)\n",
            "Selecting previously unselected package libjline-java.\n",
            "(Reading database ... 155572 files and directories currently installed.)\n",
            "Preparing to unpack .../0-libjline-java_1.0-2_all.deb ...\n",
            "Unpacking libjline-java (1.0-2) ...\n",
            "Selecting previously unselected package liblog4j1.2-java.\n",
            "Preparing to unpack .../1-liblog4j1.2-java_1.2.17-8+deb10u1ubuntu0.1_all.deb ...\n",
            "Unpacking liblog4j1.2-java (1.2.17-8+deb10u1ubuntu0.1) ...\n",
            "Selecting previously unselected package libnetty-3.9-java.\n",
            "Preparing to unpack .../2-libnetty-3.9-java_3.9.9.Final-1+deb9u1build0.18.04.1_all.deb ...\n",
            "Unpacking libnetty-3.9-java (3.9.9.Final-1+deb9u1build0.18.04.1) ...\n",
            "Selecting previously unselected package libslf4j-java.\n",
            "Preparing to unpack .../3-libslf4j-java_1.7.25-3_all.deb ...\n",
            "Unpacking libslf4j-java (1.7.25-3) ...\n",
            "Selecting previously unselected package libxml-commons-external-java.\n",
            "Preparing to unpack .../4-libxml-commons-external-java_1.4.01-3_all.deb ...\n",
            "Unpacking libxml-commons-external-java (1.4.01-3) ...\n",
            "Selecting previously unselected package libxml-commons-resolver1.1-java.\n",
            "Preparing to unpack .../5-libxml-commons-resolver1.1-java_1.2-9_all.deb ...\n",
            "Unpacking libxml-commons-resolver1.1-java (1.2-9) ...\n",
            "Selecting previously unselected package libxerces2-java.\n",
            "Preparing to unpack .../6-libxerces2-java_2.11.0-8_all.deb ...\n",
            "Unpacking libxerces2-java (2.11.0-8) ...\n",
            "Selecting previously unselected package libzookeeper-java.\n",
            "Preparing to unpack .../7-libzookeeper-java_3.4.10-3_all.deb ...\n",
            "Unpacking libzookeeper-java (3.4.10-3) ...\n",
            "Selecting previously unselected package zookeeper.\n",
            "Preparing to unpack .../8-zookeeper_3.4.10-3_all.deb ...\n",
            "Unpacking zookeeper (3.4.10-3) ...\n",
            "Selecting previously unselected package zookeeperd.\n",
            "Preparing to unpack .../9-zookeeperd_3.4.10-3_all.deb ...\n",
            "Unpacking zookeeperd (3.4.10-3) ...\n",
            "Setting up libslf4j-java (1.7.25-3) ...\n",
            "Setting up libnetty-3.9-java (3.9.9.Final-1+deb9u1build0.18.04.1) ...\n",
            "Setting up libxml-commons-external-java (1.4.01-3) ...\n",
            "Setting up libjline-java (1.0-2) ...\n",
            "Setting up liblog4j1.2-java (1.2.17-8+deb10u1ubuntu0.1) ...\n",
            "Setting up libxml-commons-resolver1.1-java (1.2-9) ...\n",
            "Setting up libxerces2-java (2.11.0-8) ...\n",
            "Setting up libzookeeper-java (3.4.10-3) ...\n",
            "Setting up zookeeper (3.4.10-3) ...\n",
            "adduser: Warning: The home directory `/var/lib/zookeeper' does not belong to the user you are currently creating.\n",
            "update-alternatives: using /etc/zookeeper/conf_example to provide /etc/zookeeper/conf (zookeeper-conf) in auto mode\n",
            "Setting up zookeeperd (3.4.10-3) ...\n",
            "invoke-rc.d: could not determine current runlevel\n",
            "invoke-rc.d: policy-rc.d denied execution of start.\n",
            "Processing triggers for systemd (237-3ubuntu10.53) ...\n",
            "Requirement already satisfied: kazoo in /usr/local/lib/python3.7/dist-packages (2.8.0)\n",
            "Requirement already satisfied: six in /usr/local/lib/python3.7/dist-packages (from kazoo) (1.15.0)\n"
          ]
        }
      ]
    },
    {
      "cell_type": "code",
      "metadata": {
        "id": "NVQhMWSUEmYo"
      },
      "source": [
        "#install Java\n",
        "!apt-get install openjdk-8-jdk-headless -qq > /dev/null\n",
        "import os\n",
        "os.environ[\"JAVA_HOME\"] = \"/usr/lib/jvm/java-8-openjdk-amd64\""
      ],
      "execution_count": 2,
      "outputs": []
    },
    {
      "cell_type": "code",
      "metadata": {
        "id": "9qckCsebEs4w",
        "colab": {
          "base_uri": "https://localhost:8080/"
        },
        "outputId": "770bbdbb-8e5e-4493-af98-4b94eec43ffa"
      },
      "source": [
        "#get kafka\n",
        "!wget  https://archive.apache.org/dist/kafka/2.7.0/kafka_2.13-2.7.0.tgz\n",
        "!tar -zxf kafka_2.13-2.7.0.tgz\n",
        "!sudo mv kafka_2.13-2.7.0 /usr/local/kafka\n",
        "!sudo mkdir -p /tmp/kafka-logs"
      ],
      "execution_count": 4,
      "outputs": [
        {
          "output_type": "stream",
          "name": "stdout",
          "text": [
            "--2022-01-19 02:16:11--  https://archive.apache.org/dist/kafka/2.7.0/kafka_2.13-2.7.0.tgz\n",
            "Resolving archive.apache.org (archive.apache.org)... 138.201.131.134, 2a01:4f8:172:2ec5::2\n",
            "Connecting to archive.apache.org (archive.apache.org)|138.201.131.134|:443... connected.\n",
            "HTTP request sent, awaiting response... 200 OK\n",
            "Length: 68583422 (65M) [application/x-gzip]\n",
            "Saving to: ‘kafka_2.13-2.7.0.tgz’\n",
            "\n",
            "kafka_2.13-2.7.0.tg 100%[===================>]  65.41M  21.3MB/s    in 3.1s    \n",
            "\n",
            "2022-01-19 02:16:14 (21.3 MB/s) - ‘kafka_2.13-2.7.0.tgz’ saved [68583422/68583422]\n",
            "\n"
          ]
        }
      ]
    },
    {
      "cell_type": "code",
      "metadata": {
        "id": "J3Ws4cuLFOFd"
      },
      "source": [
        "# We start the zookeeper service\n",
        "!service zookeeper start"
      ],
      "execution_count": 14,
      "outputs": []
    },
    {
      "cell_type": "code",
      "metadata": {
        "id": "KV7nv_ZkFUj0"
      },
      "source": [
        "# Start the kafka server\n",
        "!/usr/local/kafka/bin/kafka-server-start.sh -daemon /usr/local/kafka/config/server.properties"
      ],
      "execution_count": 15,
      "outputs": []
    },
    {
      "cell_type": "code",
      "metadata": {
        "colab": {
          "base_uri": "https://localhost:8080/"
        },
        "id": "pg7bIIJ2FdaU",
        "outputId": "b49b4fd5-afd3-4e02-df08-2b03a78ea63e"
      },
      "source": [
        "# Create a new \"topic\"\n",
        "!/usr/local/kafka/bin/kafka-topics.sh --create --zookeeper localhost:2181 --replication-factor 1 --partitions 1 --topic bigdata"
      ],
      "execution_count": 16,
      "outputs": [
        {
          "output_type": "stream",
          "name": "stdout",
          "text": [
            "Created topic bigdata.\n"
          ]
        }
      ]
    },
    {
      "cell_type": "code",
      "metadata": {
        "colab": {
          "base_uri": "https://localhost:8080/"
        },
        "id": "74Fwo-7tF6Db",
        "outputId": "932d651a-2769-4ebb-f03b-316362c4389b"
      },
      "source": [
        "#verify the topics\n",
        "!/usr/local/kafka/bin/kafka-topics.sh --zookeeper localhost:2181  --describe --topic bigdata"
      ],
      "execution_count": 17,
      "outputs": [
        {
          "output_type": "stream",
          "name": "stdout",
          "text": [
            "Topic: bigdata\tPartitionCount: 1\tReplicationFactor: 1\tConfigs: \n",
            "\tTopic: bigdata\tPartition: 0\tLeader: 0\tReplicas: 0\tIsr: 0\n"
          ]
        }
      ]
    },
    {
      "cell_type": "code",
      "metadata": {
        "colab": {
          "base_uri": "https://localhost:8080/"
        },
        "id": "AaBOKjiNGOGX",
        "outputId": "d974b5cc-4ea8-4fe8-8581-84f6eeeb8bef"
      },
      "source": [
        "#produce a message \n",
        "# Type in messages and press enter.\n",
        "# When done, manually stop the cell\n",
        "!/usr/local/kafka/bin/kafka-console-producer.sh --broker-list localhost:9092 --topic bigdata"
      ],
      "execution_count": 20,
      "outputs": [
        {
          "output_type": "stream",
          "name": "stdout",
          "text": [
            ">abcd\n",
            ">efg\n",
            ">"
          ]
        }
      ]
    },
    {
      "cell_type": "code",
      "metadata": {
        "colab": {
          "base_uri": "https://localhost:8080/"
        },
        "id": "yLudWniRGmoV",
        "outputId": "fcf38edd-e29e-4dad-8ba3-ad43fd569f93"
      },
      "source": [
        "#consume messages\n",
        "# manually stop to continue, otherwise the consumer will keep on waiting for new\n",
        "# messages.\n",
        "!/usr/local/kafka/bin/kafka-console-consumer.sh --bootstrap-server localhost:9092 --topic bigdata --from-beginning"
      ],
      "execution_count": 21,
      "outputs": [
        {
          "output_type": "stream",
          "name": "stdout",
          "text": [
            "abcd\n",
            "efg\n",
            "Processed a total of 2 messages\n"
          ]
        }
      ]
    },
    {
      "cell_type": "markdown",
      "metadata": {
        "id": "EljngJUCKbeI"
      },
      "source": [
        ""
      ]
    },
    {
      "cell_type": "code",
      "metadata": {
        "colab": {
          "base_uri": "https://localhost:8080/"
        },
        "id": "T9pkpdGEG6bz",
        "outputId": "45bf9f7d-c3af-4e5e-ea40-3839f67ae394"
      },
      "source": [
        "#let us now try to write a simple python program to produce and consume messages.\n",
        "!pip3 install kafka-python\n",
        "# Create a new \"topic\" for python script purposes\n",
        "!/usr/local/kafka/bin/kafka-topics.sh --create --zookeeper localhost:2181 --replication-factor 1 --partitions 1 --topic pybigdata"
      ],
      "execution_count": 24,
      "outputs": [
        {
          "output_type": "stream",
          "name": "stdout",
          "text": [
            "Requirement already satisfied: kafka-python in /usr/local/lib/python3.7/dist-packages (2.0.2)\n",
            "Created topic pybigdata.\n"
          ]
        }
      ]
    },
    {
      "cell_type": "code",
      "metadata": {
        "colab": {
          "base_uri": "https://localhost:8080/"
        },
        "id": "42csg6GTHNkf",
        "outputId": "8ca7d130-c016-4aea-b254-e3fa88892ac9"
      },
      "source": [
        "#kafka Producer\n",
        "from time import sleep\n",
        "from json import dumps\n",
        "from kafka import KafkaProducer\n",
        "producer = KafkaProducer(bootstrap_servers=['localhost:9092'],\n",
        "                         value_serializer=lambda x: \n",
        "                         dumps(x).encode('utf-8'))\n",
        "for e in range(10):\n",
        "    data = {'number' : e}\n",
        "    producer.send('pybigdata', value=data)\n",
        "    print(\"sent {}\".format(data))\n",
        "    sleep(2)\n"
      ],
      "execution_count": 25,
      "outputs": [
        {
          "output_type": "stream",
          "name": "stdout",
          "text": [
            "sent {'number': 0}\n",
            "sent {'number': 1}\n",
            "sent {'number': 2}\n",
            "sent {'number': 3}\n",
            "sent {'number': 4}\n",
            "sent {'number': 5}\n",
            "sent {'number': 6}\n",
            "sent {'number': 7}\n",
            "sent {'number': 8}\n",
            "sent {'number': 9}\n"
          ]
        }
      ]
    },
    {
      "cell_type": "code",
      "metadata": {
        "colab": {
          "base_uri": "https://localhost:8080/"
        },
        "id": "D0AXC0flI4oe",
        "outputId": "8caa4492-76d6-4362-a956-cb6ae29d8f83"
      },
      "source": [
        "#so here is a basic consumer as well\n",
        "from kafka import KafkaConsumer\n",
        "from json import loads\n",
        "consumer = KafkaConsumer(\n",
        "    'pybigdata',\n",
        "     bootstrap_servers=['localhost:9092'],\n",
        "     consumer_timeout_ms=1000,#important for stopping if there is no data\n",
        "     auto_offset_reset='earliest',\n",
        "     value_deserializer=lambda x: loads(x.decode('utf-8')))\n",
        "for message in consumer:\n",
        "    message = message.value   \n",
        "    print('got {}'.format(message))"
      ],
      "execution_count": 26,
      "outputs": [
        {
          "output_type": "stream",
          "name": "stdout",
          "text": [
            "got {'number': 0}\n",
            "got {'number': 1}\n",
            "got {'number': 2}\n",
            "got {'number': 3}\n",
            "got {'number': 4}\n",
            "got {'number': 5}\n",
            "got {'number': 6}\n",
            "got {'number': 7}\n",
            "got {'number': 8}\n",
            "got {'number': 9}\n"
          ]
        }
      ]
    }
  ]
}