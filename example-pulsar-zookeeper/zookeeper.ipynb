{
  "nbformat": 4,
  "nbformat_minor": 0,
  "metadata": {
    "colab": {
      "name": "zookeeper.ipynb",
      "provenance": [],
      "authorship_tag": "ABX9TyPQ5jRnDyFOG1mCLCD9mM+B",
      "include_colab_link": true
    },
    "kernelspec": {
      "name": "python3",
      "display_name": "Python 3"
    }
  },
  "cells": [
    {
      "cell_type": "markdown",
      "metadata": {
        "id": "view-in-github",
        "colab_type": "text"
      },
      "source": [
        "<a href=\"https://colab.research.google.com/github/vu-bigdata-2020/lectures/blob/master/07_pulsar_kafka_zookeeper/example/zookeeper.ipynb\" target=\"_parent\"><img src=\"https://colab.research.google.com/assets/colab-badge.svg\" alt=\"Open In Colab\"/></a>"
      ]
    },
    {
      "cell_type": "code",
      "metadata": {
        "id": "VCNIAHPh8tjv",
        "colab_type": "code",
        "colab": {}
      },
      "source": [
        "#zookeeper is packaged in a debian package that you can install\n",
        "!apt-get install zookeeperd\n",
        "!pip install kazoo"
      ],
      "execution_count": 0,
      "outputs": []
    },
    {
      "cell_type": "code",
      "metadata": {
        "id": "_poQ1F7_9T0z",
        "colab_type": "code",
        "colab": {
          "base_uri": "https://localhost:8080/",
          "height": 102
        },
        "outputId": "ac2d7723-d915-4c5e-84b6-5d1336c1f556"
      },
      "source": [
        "#check where zookeeper was installed\n",
        "!ls -l  /usr/share/zookeeper/bin"
      ],
      "execution_count": 18,
      "outputs": [
        {
          "output_type": "stream",
          "text": [
            "total 16\n",
            "-rwxr-xr-x 1 root root 1937 Mar 23  2017 zkCleanup.sh\n",
            "-rwxr-xr-x 1 root root 1534 Mar 23  2017 zkCli.sh\n",
            "lrwxrwxrwx 1 root root   31 Feb  3  2018 zkEnv.sh -> /etc/zookeeper/conf/environment\n",
            "-rwxr-xr-x 1 root root 6618 Feb  3  2018 zkServer.sh\n"
          ],
          "name": "stdout"
        }
      ]
    },
    {
      "cell_type": "code",
      "metadata": {
        "id": "7XLZBhPq-mLa",
        "colab_type": "code",
        "colab": {
          "base_uri": "https://localhost:8080/",
          "height": 68
        },
        "outputId": "85ef3a18-7976-4d37-daac-38ea53d3d2a5"
      },
      "source": [
        "!/usr/share/zookeeper/bin/zkServer.sh start"
      ],
      "execution_count": 19,
      "outputs": [
        {
          "output_type": "stream",
          "text": [
            "ZooKeeper JMX enabled by default\n",
            "Using config: /etc/zookeeper/conf/zoo.cfg\n",
            "Starting zookeeper ... STARTED\n"
          ],
          "name": "stdout"
        }
      ]
    },
    {
      "cell_type": "code",
      "metadata": {
        "id": "LGfaVfel81Xf",
        "colab_type": "code",
        "colab": {
          "base_uri": "https://localhost:8080/",
          "height": 85
        },
        "outputId": "fe5dcc57-5a24-432a-bfcb-1652095f23a6"
      },
      "source": [
        "from kazoo.client import KazooClient\n",
        "\n",
        "zk = KazooClient(hosts='127.0.0.1:2181')\n",
        "zk.start()\n",
        "# Ensure a path, create if necessary\n",
        "zk.ensure_path(\"/my/favorite\")\n",
        "# Create a node with data\n",
        "\n",
        "if zk.exists(\"/my/favorite\"):\n",
        "  data, stat = zk.get(\"/my/favorite\")\n",
        "  print(\"Version: %s, data: %s\" % (stat.version, data.decode(\"utf-8\")))\n",
        "  # List the children\n",
        "  children = zk.get_children(\"/my/favorite\")\n",
        "  print(\"There are %s children with names %s\" % (len(children), children))\n",
        "else:\n",
        "  zk.create(\"/my/favorite/node\", b\"a value\")\n",
        "  print(\"does not exist\")\n",
        "\n",
        "#update node data\n",
        "zk.set(\"/my/favorite\", b\"some data\")\n",
        "\n",
        "#check content again\n",
        "if zk.exists(\"/my/favorite\"):\n",
        "  data, stat = zk.get(\"/my/favorite\")\n",
        "  print(\"Version: %s, data: %s\" % (stat.version, data.decode(\"utf-8\")))\n",
        "  # List the children\n",
        "  children = zk.get_children(\"/my/favorite\")\n",
        "  print(\"There are %s children with names %s\" % (len(children), children))\n",
        "else:\n",
        "  print(\"does not exist\")\n",
        "\n",
        "#we can delete a node\n",
        "zk.delete(\"/my/favorite\", recursive=True)\n",
        "\n",
        "zk.stop()"
      ],
      "execution_count": 28,
      "outputs": [
        {
          "output_type": "stream",
          "text": [
            "Version: 0, data: \n",
            "There are 0 children with names []\n",
            "Version: 1, data: some data\n",
            "There are 0 children with names []\n"
          ],
          "name": "stdout"
        }
      ]
    }
  ]
}